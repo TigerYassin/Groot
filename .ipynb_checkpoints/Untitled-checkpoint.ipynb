{
 "cells": [
  {
   "cell_type": "markdown",
   "metadata": {},
   "source": [
    "# Groot"
   ]
  },
  {
   "cell_type": "markdown",
   "metadata": {},
   "source": [
    "### Team:"
   ]
  },
  {
   "cell_type": "markdown",
   "metadata": {},
   "source": [
    "+ [Yassin Alsahlani](https:github.com/TigerYassin)\n",
    "+ [Ahmed Gedi](https://github.com/ajking98)\n",
    "+ [Samira Ali](https://github.com/samiraali97)\n",
    "+ [Ammanuel Getenet](https://github.com/ammanviii)\n",
    "+ [Basuamlk Woldatsadik](https://github.com/basuamlk)\n",
    "+ [Zako](https://github.com/Zako1)"
   ]
  },
  {
   "cell_type": "markdown",
   "metadata": {},
   "source": [
    "## Project Overview"
   ]
  },
  {
   "cell_type": "markdown",
   "metadata": {},
   "source": [
    "This project was created during HackGSU 2018. In this hackathon, we tackled the problem that ate away most of our time and money: Shopping. There is a clear problem with shopping and team GROOT was on a mission to help fix it. We created the smart shopping list that would allow users to enter in the items that they wish to pick up from grocery stores. We then called to the NCR API (Catalog endpoint) to get the appropriate pricing for each item and presented them to the user. The user had the choice of prioritizing efficiency or affordibility. Moving onto checkout, the user would see their cart one last time before ordering. Once they order, the app will log their info into NCR's API (Order endpoint) so that we can later notify them once their order has been completed and is ready for pickup. The transaction is also logged into the API (Transaction endpoint) so that the app can get a feel for what the customers wish to spend money on and also rewards them with a surprise product once the user has amassed enough points on the loyalty program"
   ]
  },
  {
   "cell_type": "markdown",
   "metadata": {},
   "source": [
    "## Technologies"
   ]
  },
  {
   "cell_type": "markdown",
   "metadata": {},
   "source": [
    "+ MongoDb\n",
    "+ Express.js\n",
    "+ Unirest\n",
    "+ NCR API (Catalog, Order, Transaction)\n",
    "+ React.js\n",
    "+ Node.js\n",
    "+ MDBootstrap\n",
    "+ Nodemon\n",
    "+ Postman"
   ]
  },
  {
   "cell_type": "markdown",
   "metadata": {},
   "source": [
    "## Usage"
   ]
  },
  {
   "cell_type": "markdown",
   "metadata": {},
   "source": [
    "- Install Node\n",
    "- Make sure your own the latest Node and npm versions using the commands `node -v` and `npm -v` to check your current version.\n",
    "- Node version 8.12.0 and npm version 6.4.1 were used during the development process\n",
    "- Go ahead and clone the repo to your computer using\n",
    "\n",
    "```\n",
    " git clone https://github.com/TigerYassin/Groot.git\n",
    "```\n",
    "\n",
    "- Then navigate to the **/groot2** folder within the project inside your terminal then proceed with the following commands to run the backend on port 5000:\n",
    "\n",
    "```\n",
    " npm install\n",
    " npm start\n",
    " ```\n",
    "\n",
    "- Then open a new terminal and navigate to the **/client** floder and enter the same commands: \n",
    "\n",
    "```\n",
    "  npm install\n",
    "  npm start\n",
    "```\n",
    "\n",
    "- Open a new window on the browser of your choosing and go to [localhost:3000](http://localhost:3000/). And you should see someting like this: \n",
    "\n",
    "<img src=\"ex_img.png\"\n",
    "    align=\"middle\"\n",
    "     alt=\"FrontEnd\"\n",
    "     style=\"float: left; margin-right: 10px; width: 50%; height: 50%\" />\n",
    "\n"
   ]
  },
  {
   "cell_type": "markdown",
   "metadata": {},
   "source": []
  }
 ],
 "metadata": {
  "kernelspec": {
   "display_name": "Python 2",
   "language": "python",
   "name": "python2"
  },
  "language_info": {
   "codemirror_mode": {
    "name": "ipython",
    "version": 2
   },
   "file_extension": ".py",
   "mimetype": "text/x-python",
   "name": "python",
   "nbconvert_exporter": "python",
   "pygments_lexer": "ipython2",
   "version": "2.7.15"
  }
 },
 "nbformat": 4,
 "nbformat_minor": 2
}
